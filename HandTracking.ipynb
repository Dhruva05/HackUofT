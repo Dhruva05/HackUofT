{
 "cells": [
  {
   "cell_type": "code",
   "execution_count": 66,
   "metadata": {},
   "outputs": [],
   "source": [
    "import cv2\n",
    "import numpy as np\n",
    "import mediapipe as mp\n",
    "from flask import Flask, render_template, Response\n",
    "import threading\n",
    "import base64\n",
    "from flask_socketio import SocketIO"
   ]
  },
  {
   "cell_type": "code",
   "execution_count": 67,
   "metadata": {},
   "outputs": [],
   "source": [
    "app = Flask(__name__)\n",
    "socketio = SocketIO(app, cors_allowed_origins=\"*\")"
   ]
  },
  {
   "cell_type": "code",
   "execution_count": 68,
   "metadata": {},
   "outputs": [],
   "source": [
    "# Define color ranges in HSV\n",
    "lower_red1 = np.array([0, 100, 100])\n",
    "upper_red1 = np.array([10, 255, 255])\n",
    "lower_red2 = np.array([170, 100, 100])\n",
    "upper_red2 = np.array([180, 255, 255])\n",
    "\n",
    "lower_green = np.array([35, 100, 100])\n",
    "upper_green = np.array([85, 255, 255])\n",
    "\n",
    "lower_blue = np.array([100, 100, 100])\n",
    "upper_blue = np.array([140, 255, 255])\n"
   ]
  },
  {
   "cell_type": "code",
   "execution_count": 69,
   "metadata": {},
   "outputs": [],
   "source": [
    "# Initialize MediaPipe Hand module\n",
    "mp_hands = mp.solutions.hands\n",
    "hands = mp_hands.Hands(min_detection_confidence=0.7, min_tracking_confidence=0.5)\n",
    "mp_drawing = mp.solutions.drawing_utils"
   ]
  },
  {
   "cell_type": "code",
   "execution_count": 70,
   "metadata": {},
   "outputs": [
    {
     "name": "stderr",
     "output_type": "stream",
     "text": [
      "Werkzeug appears to be used in a production deployment. Consider switching to a production web server instead.\n"
     ]
    },
    {
     "name": "stdout",
     "output_type": "stream",
     "text": [
      " * Serving Flask app '__main__'\n",
      " * Debug mode: on\n"
     ]
    },
    {
     "name": "stderr",
     "output_type": "stream",
     "text": [
      "WARNING: This is a development server. Do not use it in a production deployment. Use a production WSGI server instead.\n",
      " * Running on all addresses (0.0.0.0)\n",
      " * Running on http://127.0.0.1:5000\n",
      " * Running on http://100.66.223.44:5000\n",
      "Press CTRL+C to quit\n",
      " * Restarting with stat\n"
     ]
    },
    {
     "ename": "SystemExit",
     "evalue": "1",
     "output_type": "error",
     "traceback": [
      "An exception has occurred, use %tb to see the full traceback.\n",
      "\u001b[1;31mSystemExit\u001b[0m\u001b[1;31m:\u001b[0m 1\n"
     ]
    }
   ],
   "source": [
    "cap = cv2.VideoCapture(0)\n",
    "\n",
    "def generate_frames():\n",
    "    while True:\n",
    "        success, frame = cap.read()\n",
    "        if not success:\n",
    "            break\n",
    "\n",
    "        frame = cv2.flip(frame, 1)  # Flip horizontally\n",
    "        rgb_frame = cv2.cvtColor(frame, cv2.COLOR_BGR2RGB)\n",
    "        results = hands.process(rgb_frame)\n",
    "\n",
    "        frame_bgr = cv2.cvtColor(rgb_frame, cv2.COLOR_RGB2BGR)\n",
    "        hsv = cv2.cvtColor(frame_bgr, cv2.COLOR_BGR2HSV)\n",
    "\n",
    "        mask_red1 = cv2.inRange(hsv, lower_red1, upper_red1)\n",
    "        mask_red2 = cv2.inRange(hsv, lower_red2, upper_red2)\n",
    "        mask_red = cv2.bitwise_or(mask_red1, mask_red2)\n",
    "\n",
    "        mask_green = cv2.inRange(hsv, lower_green, upper_green)\n",
    "        mask_blue = cv2.inRange(hsv, lower_blue, upper_blue)\n",
    "\n",
    "        hand_mask = np.zeros(frame_bgr.shape[:2], dtype=np.uint8)\n",
    "\n",
    "        if results.multi_hand_landmarks:\n",
    "            for hand_landmarks in results.multi_hand_landmarks:\n",
    "                hand_points = []\n",
    "                for landmark in hand_landmarks.landmark:\n",
    "                    h, w, c = frame_bgr.shape\n",
    "                    cx, cy = int(landmark.x * w), int(landmark.y * h)\n",
    "                    hand_points.append((cx, cy))\n",
    "\n",
    "                hand_points = np.array(hand_points, dtype=np.int32)\n",
    "                cv2.fillConvexPoly(hand_mask, hand_points, 255)\n",
    "\n",
    "                for landmark in hand_landmarks.landmark:\n",
    "                    h, w, c = frame_bgr.shape\n",
    "                    cx, cy = int(landmark.x * w), int(landmark.y * h)\n",
    "                    cv2.circle(frame_bgr, (cx, cy), 5, (255, 255, 255), -1)\n",
    "\n",
    "                mp_drawing.draw_landmarks(frame_bgr, hand_landmarks, mp_hands.HAND_CONNECTIONS)\n",
    "\n",
    "        hand_only = cv2.bitwise_and(frame_bgr, frame_bgr, mask=hand_mask)\n",
    "\n",
    "        mask_red_hand = cv2.bitwise_and(mask_red, mask_red, mask=hand_mask)\n",
    "        mask_green_hand = cv2.bitwise_and(mask_green, mask_green, mask=hand_mask)\n",
    "        mask_blue_hand = cv2.bitwise_and(mask_blue, mask_blue, mask=hand_mask)\n",
    "\n",
    "        contours_red, _ = cv2.findContours(mask_red_hand, cv2.RETR_EXTERNAL, cv2.CHAIN_APPROX_SIMPLE)\n",
    "        contours_green, _ = cv2.findContours(mask_green_hand, cv2.RETR_EXTERNAL, cv2.CHAIN_APPROX_SIMPLE)\n",
    "        contours_blue, _ = cv2.findContours(mask_blue_hand, cv2.RETR_EXTERNAL, cv2.CHAIN_APPROX_SIMPLE)\n",
    "\n",
    "        cv2.drawContours(hand_only, contours_red, -1, (0, 0, 255), 2)\n",
    "        cv2.drawContours(hand_only, contours_green, -1, (0, 255, 0), 2)\n",
    "        cv2.drawContours(hand_only, contours_blue, -1, (255, 0, 0), 2)\n",
    "\n",
    "        _, buffer = cv2.imencode('.jpg', hand_only)\n",
    "        frame_encoded = base64.b64encode(buffer).decode('utf-8')\n",
    "        socketio.emit(\"video_frame\", {\"frame\": frame_encoded})\n",
    "\n",
    "@app.route('/home')\n",
    "def home():\n",
    "    return render_template('index.html')\n",
    "\n",
    "if __name__ == '__main__':\n",
    "    thread = threading.Thread(target=generate_frames, daemon=True)\n",
    "    thread.start()\n",
    "    socketio.run(app, host='0.0.0.0', port=5000, debug=True, allow_unsafe_werkzeug=True)\n"
   ]
  }
 ],
 "metadata": {
  "kernelspec": {
   "display_name": ".venv",
   "language": "python",
   "name": "python3"
  },
  "language_info": {
   "codemirror_mode": {
    "name": "ipython",
    "version": 3
   },
   "file_extension": ".py",
   "mimetype": "text/x-python",
   "name": "python",
   "nbconvert_exporter": "python",
   "pygments_lexer": "ipython3",
   "version": "3.11.8"
  }
 },
 "nbformat": 4,
 "nbformat_minor": 2
}
